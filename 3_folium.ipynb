{
 "cells": [
  {
   "cell_type": "code",
   "execution_count": 190,
   "metadata": {},
   "outputs": [],
   "source": [
    "from folium import Map, Marker, Icon, FeatureGroup, LayerControl, Choropleth\n",
    "from folium.plugins import HeatMap\n",
    "from folium.vector_layers import Circle, Polygon\n",
    "import pandas as pd"
   ]
  },
  {
   "cell_type": "code",
   "execution_count": 191,
   "metadata": {},
   "outputs": [
    {
     "data": {
      "text/plain": [
       "''"
      ]
     },
     "execution_count": 191,
     "metadata": {},
     "output_type": "execute_result"
    }
   ],
   "source": [
    "m = Map(location=[37.6003, -122.3867],\n",
    "        zoom_start=14)\n",
    ";"
   ]
  },
  {
   "cell_type": "code",
   "execution_count": 192,
   "metadata": {},
   "outputs": [],
   "source": [
    "#m"
   ]
  },
  {
   "cell_type": "markdown",
   "metadata": {},
   "source": [
    "### Markers"
   ]
  },
  {
   "cell_type": "markdown",
   "metadata": {},
   "source": [
    "#### First I set a marker for the final location of the company and will be adding one by one each filter it followed"
   ]
  },
  {
   "cell_type": "code",
   "execution_count": 193,
   "metadata": {},
   "outputs": [
    {
     "data": {
      "text/plain": [
       "<folium.map.Marker at 0x7fa17756b160>"
      ]
     },
     "execution_count": 193,
     "metadata": {},
     "output_type": "execute_result"
    }
   ],
   "source": [
    "fm = Marker(location=[37.598478, -122.376572], \n",
    "            tooltip='Gen-Y Media')\n",
    "fm.add_to(m)"
   ]
  },
  {
   "cell_type": "code",
   "execution_count": 194,
   "metadata": {},
   "outputs": [],
   "source": [
    "#m"
   ]
  },
  {
   "cell_type": "markdown",
   "metadata": {},
   "source": [
    "#### Second marker would be a vegan restaurant"
   ]
  },
  {
   "cell_type": "code",
   "execution_count": 195,
   "metadata": {},
   "outputs": [
    {
     "data": {
      "text/plain": [
       "<folium.map.Marker at 0x7fa177576100>"
      ]
     },
     "execution_count": 195,
     "metadata": {},
     "output_type": "execute_result"
    }
   ],
   "source": [
    "vm = Marker(location=[37.60367965698242, -122.37626647949219], \n",
    "            icon=Icon(color='lightgreen', prefix=\"glyphicon\", icon=\"glyphicon glyphicon-leaf\", icon_color='black'),\n",
    "            tooltip='Alfiere')\n",
    "vm.add_to(m)"
   ]
  },
  {
   "cell_type": "code",
   "execution_count": 196,
   "metadata": {},
   "outputs": [],
   "source": [
    "#m"
   ]
  },
  {
   "cell_type": "markdown",
   "metadata": {},
   "source": [
    "#### Third set of markers would be nursery schools"
   ]
  },
  {
   "cell_type": "code",
   "execution_count": 197,
   "metadata": {},
   "outputs": [
    {
     "data": {
      "text/plain": [
       "<folium.map.Marker at 0x7fa1775d12e0>"
      ]
     },
     "execution_count": 197,
     "metadata": {},
     "output_type": "execute_result"
    }
   ],
   "source": [
    "nm_1 = Marker(location=[ 37.597664,-122.376406], \n",
    "            icon=Icon(color='pink', prefix=\"glyphicon\", icon=\" glyphicon glyphicon-pencil \", icon_color='black'),\n",
    "            tooltip='Ross School Of Business Alumni Receptiom')\n",
    "nm_1.add_to(m)"
   ]
  },
  {
   "cell_type": "code",
   "execution_count": 198,
   "metadata": {},
   "outputs": [
    {
     "data": {
      "text/plain": [
       "<folium.map.Marker at 0x7fa1774f32b0>"
      ]
     },
     "execution_count": 198,
     "metadata": {},
     "output_type": "execute_result"
    }
   ],
   "source": [
    "nm_2 = Marker(location=[37.5981330871582,-122.3793716430664], \n",
    "            icon=Icon(color='pink', prefix=\"glyphicon\", icon=\" glyphicon glyphicon-pencil \", icon_color='black'),\n",
    "            tooltip='Design Tech High School')\n",
    "nm_2.add_to(m)"
   ]
  },
  {
   "cell_type": "code",
   "execution_count": 199,
   "metadata": {},
   "outputs": [],
   "source": [
    "#m"
   ]
  },
  {
   "cell_type": "markdown",
   "metadata": {},
   "source": [
    "#### Fourth marker would be for night life"
   ]
  },
  {
   "cell_type": "code",
   "execution_count": 202,
   "metadata": {},
   "outputs": [
    {
     "data": {
      "text/plain": [
       "<folium.map.Marker at 0x7fa1775d1820>"
      ]
     },
     "execution_count": 202,
     "metadata": {},
     "output_type": "execute_result"
    }
   ],
   "source": [
    "bm_1 = Marker(location=[ 37.59854945074639,-122.3741590977542], \n",
    "            icon=Icon(color='red', prefix=\"glyphicon\", icon=\"glyphicon glyphicon-glass\", icon_color='black'),\n",
    "            tooltip='Spot Bagel')\n",
    "bm_1.add_to(m)"
   ]
  },
  {
   "cell_type": "code",
   "execution_count": 203,
   "metadata": {},
   "outputs": [],
   "source": [
    "#m"
   ]
  },
  {
   "cell_type": "markdown",
   "metadata": {},
   "source": [
    "#### Fifth marker would be the airport"
   ]
  },
  {
   "cell_type": "code",
   "execution_count": 208,
   "metadata": {},
   "outputs": [
    {
     "data": {
      "text/plain": [
       "<folium.map.Marker at 0x7fa1775d1700>"
      ]
     },
     "execution_count": 208,
     "metadata": {},
     "output_type": "execute_result"
    }
   ],
   "source": [
    "tm = Marker(location=[37.61434555053711, -122.38542175292969], \n",
    "            icon=Icon(color='lightgray', prefix=\"glyphicon\", icon=\"glyphicon glyphicon-plane\", icon_color='black'),\n",
    "            tooltip='SF international airpot')\n",
    "tm.add_to(m)"
   ]
  },
  {
   "cell_type": "code",
   "execution_count": 209,
   "metadata": {},
   "outputs": [
    {
     "data": {
      "text/html": [
       "<div style=\"width:100%;\"><div style=\"position:relative;width:100%;height:0;padding-bottom:60%;\"><span style=\"color:#565656\">Make this Notebook Trusted to load map: File -> Trust Notebook</span><iframe src=\"about:blank\" style=\"position:absolute;width:100%;height:100%;left:0;top:0;border:none !important;\" data-html=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 onload=\"this.contentDocument.open();this.contentDocument.write(atob(this.getAttribute('data-html')));this.contentDocument.close();\" allowfullscreen webkitallowfullscreen mozallowfullscreen></iframe></div></div>"
      ],
      "text/plain": [
       "<folium.folium.Map at 0x7fa17752a700>"
      ]
     },
     "execution_count": 209,
     "metadata": {},
     "output_type": "execute_result"
    }
   ],
   "source": [
    "m"
   ]
  },
  {
   "cell_type": "code",
   "execution_count": null,
   "metadata": {},
   "outputs": [],
   "source": []
  },
  {
   "cell_type": "code",
   "execution_count": null,
   "metadata": {},
   "outputs": [],
   "source": []
  }
 ],
 "metadata": {
  "kernelspec": {
   "display_name": "Python 3",
   "language": "python",
   "name": "python3"
  },
  "language_info": {
   "codemirror_mode": {
    "name": "ipython",
    "version": 3
   },
   "file_extension": ".py",
   "mimetype": "text/x-python",
   "name": "python",
   "nbconvert_exporter": "python",
   "pygments_lexer": "ipython3",
   "version": "3.8.5"
  }
 },
 "nbformat": 4,
 "nbformat_minor": 4
}
