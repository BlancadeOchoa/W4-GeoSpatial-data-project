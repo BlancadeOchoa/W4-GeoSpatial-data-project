{
 "cells": [
  {
   "cell_type": "markdown",
   "metadata": {},
   "source": [
    "# Foursquare API"
   ]
  },
  {
   "cell_type": "code",
   "execution_count": 1,
   "metadata": {},
   "outputs": [],
   "source": [
    "from dotenv import load_dotenv\n",
    "import os\n",
    "import re\n",
    "import pandas as pd\n",
    "import requests\n",
    "import json"
   ]
  },
  {
   "cell_type": "code",
   "execution_count": 2,
   "metadata": {},
   "outputs": [],
   "source": [
    "%store -r travel"
   ]
  },
  {
   "cell_type": "code",
   "execution_count": 3,
   "metadata": {},
   "outputs": [
    {
     "data": {
      "text/plain": [
       "[{'_id': ObjectId('5fb2ca3df3a429eb4e3ff1ed'),\n",
       "  'name': 'Gen-Y Media',\n",
       "  'offices': {'country_code': 'USA',\n",
       "   'latitude': 37.598478,\n",
       "   'longitude': -122.376572}},\n",
       " {'_id': ObjectId('5fb2ca3df3a429eb4e3ff4e7'),\n",
       "  'name': 'Sky Bird Travel  Tours',\n",
       "  'offices': {'country_code': 'USA',\n",
       "   'latitude': 37.599131,\n",
       "   'longitude': -122.368281}},\n",
       " {'_id': ObjectId('5fb2ca3cf3a429eb4e3fd2c5'),\n",
       "  'name': 'ScanCafe',\n",
       "  'offices': {'country_code': 'USA',\n",
       "   'latitude': 37.592584,\n",
       "   'longitude': -122.369676}},\n",
       " {'_id': ObjectId('5fb2ca3cf3a429eb4e3fe3e2'),\n",
       "  'name': 'Planet Metrics',\n",
       "  'offices': {'country_code': 'USA',\n",
       "   'latitude': 37.628328,\n",
       "   'longitude': -122.420814}},\n",
       " {'_id': ObjectId('5fb2ca3df3a429eb4e3ff382'),\n",
       "  'name': 'Catalyst Biosciences',\n",
       "  'offices': {'country_code': 'USA',\n",
       "   'latitude': 37.645401,\n",
       "   'longitude': -122.394464}}]"
      ]
     },
     "execution_count": 3,
     "metadata": {},
     "output_type": "execute_result"
    }
   ],
   "source": [
    "travel"
   ]
  },
  {
   "cell_type": "code",
   "execution_count": 4,
   "metadata": {},
   "outputs": [
    {
     "data": {
      "text/plain": [
       "True"
      ]
     },
     "execution_count": 4,
     "metadata": {},
     "output_type": "execute_result"
    }
   ],
   "source": [
    "load_dotenv()"
   ]
  },
  {
   "cell_type": "code",
   "execution_count": 5,
   "metadata": {},
   "outputs": [],
   "source": [
    "t_client_id = os.getenv('CLIENT_ID')\n",
    "t_client_secret = os.getenv('CLIENT_SECRET')"
   ]
  },
  {
   "cell_type": "markdown",
   "metadata": {},
   "source": [
    "## 4. Nightlife is the forth filter I choose to apply"
   ]
  },
  {
   "cell_type": "markdown",
   "metadata": {},
   "source": [
    "#### We figure out a function in order not to manually introduce all the values for each query"
   ]
  },
  {
   "cell_type": "code",
   "execution_count": 6,
   "metadata": {},
   "outputs": [],
   "source": [
    "def four_square(ll,query):\n",
    "    url = 'https://api.foursquare.com/v2/venues/search'\n",
    "\n",
    "    params = dict(\n",
    "    client_id= t_client_id,\n",
    "    client_secret=t_client_secret,\n",
    "    v='20200901',\n",
    "    ll=ll,#coordenadas que le das\n",
    "    radius = 100,\n",
    "    query=query\n",
    "    )\n",
    "    re = requests.get(url=url, params=params)\n",
    "    night = json.loads(re.text)\n",
    "    return night"
   ]
  },
  {
   "cell_type": "code",
   "execution_count": 39,
   "metadata": {},
   "outputs": [
    {
     "data": {
      "text/plain": [
       "{'meta': {'code': 200, 'requestId': '5fb30a4ed91d7d1d499581db'},\n",
       " 'response': {'venues': []}}"
      ]
     },
     "execution_count": 39,
     "metadata": {},
     "output_type": "execute_result"
    }
   ],
   "source": [
    "four_square('37.598478,-122.376572','Nightlife Spot')"
   ]
  },
  {
   "cell_type": "code",
   "execution_count": 40,
   "metadata": {},
   "outputs": [
    {
     "ename": "NameError",
     "evalue": "name 'night' is not defined",
     "output_type": "error",
     "traceback": [
      "\u001b[0;31m---------------------------------------------------------------------------\u001b[0m",
      "\u001b[0;31mNameError\u001b[0m                                 Traceback (most recent call last)",
      "\u001b[0;32m<ipython-input-40-aad96756f63a>\u001b[0m in \u001b[0;36m<module>\u001b[0;34m\u001b[0m\n\u001b[1;32m      1\u001b[0m \u001b[0mnight_life\u001b[0m \u001b[0;34m=\u001b[0m \u001b[0;34m[\u001b[0m\u001b[0;34m]\u001b[0m\u001b[0;34m\u001b[0m\u001b[0;34m\u001b[0m\u001b[0m\n\u001b[0;32m----> 2\u001b[0;31m \u001b[0;32mfor\u001b[0m \u001b[0mx\u001b[0m \u001b[0;32min\u001b[0m \u001b[0mrange\u001b[0m\u001b[0;34m(\u001b[0m\u001b[0mlen\u001b[0m\u001b[0;34m(\u001b[0m\u001b[0mnight\u001b[0m\u001b[0;34m[\u001b[0m\u001b[0;34m\"response\"\u001b[0m\u001b[0;34m]\u001b[0m\u001b[0;34m[\u001b[0m\u001b[0;34m'venues'\u001b[0m\u001b[0;34m]\u001b[0m\u001b[0;34m)\u001b[0m\u001b[0;34m)\u001b[0m\u001b[0;34m:\u001b[0m\u001b[0;34m\u001b[0m\u001b[0;34m\u001b[0m\u001b[0m\n\u001b[0m\u001b[1;32m      3\u001b[0m     \u001b[0mname_b\u001b[0m\u001b[0;34m=\u001b[0m\u001b[0mnight\u001b[0m\u001b[0;34m[\u001b[0m\u001b[0;34m\"response\"\u001b[0m\u001b[0;34m]\u001b[0m\u001b[0;34m[\u001b[0m\u001b[0;34m'venues'\u001b[0m\u001b[0;34m]\u001b[0m\u001b[0;34m[\u001b[0m\u001b[0mx\u001b[0m\u001b[0;34m]\u001b[0m\u001b[0;34m[\u001b[0m\u001b[0;34m'name'\u001b[0m\u001b[0;34m]\u001b[0m\u001b[0;34m\u001b[0m\u001b[0;34m\u001b[0m\u001b[0m\n\u001b[1;32m      4\u001b[0m     \u001b[0mlat_b\u001b[0m\u001b[0;34m=\u001b[0m\u001b[0mnight\u001b[0m\u001b[0;34m[\u001b[0m\u001b[0;34m\"response\"\u001b[0m\u001b[0;34m]\u001b[0m\u001b[0;34m[\u001b[0m\u001b[0;34m'venues'\u001b[0m\u001b[0;34m]\u001b[0m\u001b[0;34m[\u001b[0m\u001b[0mx\u001b[0m\u001b[0;34m]\u001b[0m\u001b[0;34m[\u001b[0m\u001b[0;34m'location'\u001b[0m\u001b[0;34m]\u001b[0m\u001b[0;34m[\u001b[0m\u001b[0;34m\"lat\"\u001b[0m\u001b[0;34m]\u001b[0m\u001b[0;34m\u001b[0m\u001b[0;34m\u001b[0m\u001b[0m\n\u001b[1;32m      5\u001b[0m     \u001b[0mlong_b\u001b[0m\u001b[0;34m=\u001b[0m\u001b[0mnight\u001b[0m\u001b[0;34m[\u001b[0m\u001b[0;34m\"response\"\u001b[0m\u001b[0;34m]\u001b[0m\u001b[0;34m[\u001b[0m\u001b[0;34m'venues'\u001b[0m\u001b[0;34m]\u001b[0m\u001b[0;34m[\u001b[0m\u001b[0mx\u001b[0m\u001b[0;34m]\u001b[0m\u001b[0;34m[\u001b[0m\u001b[0;34m'location'\u001b[0m\u001b[0;34m]\u001b[0m\u001b[0;34m[\u001b[0m\u001b[0;34m\"lng\"\u001b[0m\u001b[0;34m]\u001b[0m\u001b[0;34m\u001b[0m\u001b[0;34m\u001b[0m\u001b[0m\n",
      "\u001b[0;31mNameError\u001b[0m: name 'night' is not defined"
     ]
    }
   ],
   "source": [
    "night_life = []\n",
    "for x in range(len(night[\"response\"]['venues'])):\n",
    "    name_b=night[\"response\"]['venues'][x]['name']\n",
    "    lat_b=night[\"response\"]['venues'][x]['location'][\"lat\"]\n",
    "    long_b=night[\"response\"]['venues'][x]['location'][\"lng\"]\n",
    "    \n",
    "    night_life.append(name_b)\n",
    "    night_life.append(lat_b)\n",
    "    night_life.append(long_b)"
   ]
  },
  {
   "cell_type": "code",
   "execution_count": null,
   "metadata": {},
   "outputs": [],
   "source": [
    "##Si intento automatizar la funcion me da este error y no entiendo porque... asique no me queda otra que hacerlo \n",
    "##uno a uno "
   ]
  },
  {
   "cell_type": "markdown",
   "metadata": {},
   "source": [
    "#### Data for the first company: 'Gen-Y Media'"
   ]
  },
  {
   "cell_type": "code",
   "execution_count": 233,
   "metadata": {},
   "outputs": [],
   "source": [
    "url = 'https://api.foursquare.com/v2/venues/search'\n",
    "\n",
    "params = dict(\n",
    "client_id= t_client_id,\n",
    "client_secret=t_client_secret,\n",
    "v='20200901',\n",
    "ll='37.598478,-122.376572',#coordenadas que le das\n",
    "radius = 700,\n",
    "query='Nightlife Spot'\n",
    ")\n",
    "re = requests.get(url=url, params=params)\n",
    "data = json.loads(re.text)"
   ]
  },
  {
   "cell_type": "code",
   "execution_count": 234,
   "metadata": {},
   "outputs": [],
   "source": [
    "#data"
   ]
  },
  {
   "cell_type": "code",
   "execution_count": 235,
   "metadata": {},
   "outputs": [],
   "source": [
    "night_life = []\n",
    "for x in range(len(data[\"response\"]['venues'])):\n",
    "    name_night=data[\"response\"]['venues'][x]['name']\n",
    "    lat_night=data[\"response\"]['venues'][x]['location'][\"lat\"]\n",
    "    lng_night=data[\"response\"]['venues'][x]['location'][\"lng\"]\n",
    "    \n",
    "    night_life.append(name_night)\n",
    "    night_life.append(lat_night)\n",
    "    night_life.append(lng_night)\n",
    "    "
   ]
  },
  {
   "cell_type": "code",
   "execution_count": 236,
   "metadata": {},
   "outputs": [],
   "source": [
    "f = list(night_life)"
   ]
  },
  {
   "cell_type": "code",
   "execution_count": 237,
   "metadata": {},
   "outputs": [
    {
     "data": {
      "text/plain": [
       "['Spot Bagel', 37.59854945074639, -122.3741590977542]"
      ]
     },
     "execution_count": 237,
     "metadata": {},
     "output_type": "execute_result"
    }
   ],
   "source": [
    "f"
   ]
  },
  {
   "cell_type": "markdown",
   "metadata": {},
   "source": [
    "#### Data for the second company:'Sky Bird Travel  Tours'"
   ]
  },
  {
   "cell_type": "code",
   "execution_count": 319,
   "metadata": {},
   "outputs": [
    {
     "data": {
      "text/plain": [
       "{'meta': {'code': 200, 'requestId': '5fb2da07c4e5cf3a832d91d3'},\n",
       " 'response': {'venues': []}}"
      ]
     },
     "execution_count": 319,
     "metadata": {},
     "output_type": "execute_result"
    }
   ],
   "source": [
    "#four_square('37.599131,-122.368281','Nightlife Spot')"
   ]
  },
  {
   "cell_type": "code",
   "execution_count": 227,
   "metadata": {},
   "outputs": [],
   "source": [
    "url = 'https://api.foursquare.com/v2/venues/search'\n",
    "\n",
    "params = dict(\n",
    "client_id= t_client_id,\n",
    "client_secret=t_client_secret,\n",
    "v='20200901',\n",
    "ll='37.599131,-122.368281',#coordenadas que le das\n",
    "radius = 700,\n",
    "query='Nightlife Spot'\n",
    ")\n",
    "re = requests.get(url=url, params=params)\n",
    "data = json.loads(re.text)"
   ]
  },
  {
   "cell_type": "code",
   "execution_count": 232,
   "metadata": {},
   "outputs": [],
   "source": [
    "#data"
   ]
  },
  {
   "cell_type": "code",
   "execution_count": 229,
   "metadata": {},
   "outputs": [],
   "source": [
    "night_life_2 = []\n",
    "for x in range(len(data[\"response\"]['venues'])):\n",
    "    name_night_2=data[\"response\"]['venues'][x]['name']\n",
    "    lat_night_2=data[\"response\"]['venues'][x]['location'][\"lat\"]\n",
    "    lng_night_2=data[\"response\"]['venues'][x]['location'][\"lng\"]\n",
    "    \n",
    "    night_life_2.append(name_night_2)\n",
    "    night_life_2.append(lat_night_2)\n",
    "    night_life_2.append(lng_night_2)"
   ]
  },
  {
   "cell_type": "code",
   "execution_count": 230,
   "metadata": {},
   "outputs": [],
   "source": [
    "s = list(night_life_2)"
   ]
  },
  {
   "cell_type": "code",
   "execution_count": 231,
   "metadata": {},
   "outputs": [
    {
     "data": {
      "text/plain": [
       "['Spot Bagel', 37.59854945074639, -122.3741590977542]"
      ]
     },
     "execution_count": 231,
     "metadata": {},
     "output_type": "execute_result"
    }
   ],
   "source": [
    "s"
   ]
  },
  {
   "cell_type": "markdown",
   "metadata": {},
   "source": [
    "#### Data for the third company:'ScanCafe'"
   ]
  },
  {
   "cell_type": "code",
   "execution_count": 130,
   "metadata": {},
   "outputs": [],
   "source": [
    "#four_square('37.592584, -122.369676','Nightlife Spot')"
   ]
  },
  {
   "cell_type": "code",
   "execution_count": 215,
   "metadata": {},
   "outputs": [],
   "source": [
    "url = 'https://api.foursquare.com/v2/venues/search'\n",
    "\n",
    "params = dict(\n",
    "client_id= t_client_id,\n",
    "client_secret=t_client_secret,\n",
    "v='20200901',\n",
    "ll='37.592584,-122.369676',#coordenadas que le das\n",
    "radius = 700,\n",
    "query='Nightlife Spot'\n",
    ")\n",
    "re = requests.get(url=url, params=params)\n",
    "data = json.loads(re.text)"
   ]
  },
  {
   "cell_type": "code",
   "execution_count": 218,
   "metadata": {},
   "outputs": [],
   "source": [
    "night_life_3 = []\n",
    "for x in range(len(data[\"response\"]['venues'])):\n",
    "    name_night_3=data[\"response\"]['venues'][x]['name']\n",
    "    lat_night_3=data[\"response\"]['venues'][x]['location'][\"lat\"]\n",
    "    lng_night_3=data[\"response\"]['venues'][x]['location'][\"lng\"]\n",
    "    \n",
    "    night_life_3.append(name_night_3)\n",
    "    night_life_3.append(lat_night_3)\n",
    "    night_life_3.append(lng_night_3)"
   ]
  },
  {
   "cell_type": "code",
   "execution_count": 219,
   "metadata": {},
   "outputs": [],
   "source": [
    "thr = list(night_life_3)"
   ]
  },
  {
   "cell_type": "code",
   "execution_count": 220,
   "metadata": {},
   "outputs": [
    {
     "data": {
      "text/plain": [
       "['Spot Bagel', 37.59854945074639, -122.3741590977542]"
      ]
     },
     "execution_count": 220,
     "metadata": {},
     "output_type": "execute_result"
    }
   ],
   "source": [
    "thr"
   ]
  },
  {
   "cell_type": "markdown",
   "metadata": {},
   "source": [
    "#### Data for the fourth company: 'Planet Metrics'"
   ]
  },
  {
   "cell_type": "code",
   "execution_count": 221,
   "metadata": {},
   "outputs": [],
   "source": [
    "url = 'https://api.foursquare.com/v2/venues/search'\n",
    "\n",
    "params = dict(\n",
    "client_id= t_client_id,\n",
    "client_secret=t_client_secret,\n",
    "v='20200901',\n",
    "ll='37.628328,-122.420814',#coordenadas que le das\n",
    "radius = 700,\n",
    "query='Nightlife Spot'\n",
    ")\n",
    "re = requests.get(url=url, params=params)\n",
    "data = json.loads(re.text)"
   ]
  },
  {
   "cell_type": "code",
   "execution_count": 222,
   "metadata": {},
   "outputs": [
    {
     "data": {
      "text/plain": [
       "{'meta': {'code': 200, 'requestId': '5fb30e71556f3329953061ca'},\n",
       " 'response': {'venues': []}}"
      ]
     },
     "execution_count": 222,
     "metadata": {},
     "output_type": "execute_result"
    }
   ],
   "source": [
    "data"
   ]
  },
  {
   "cell_type": "code",
   "execution_count": 208,
   "metadata": {},
   "outputs": [],
   "source": [
    "night_life_4 = []\n",
    "for x in range(len(data[\"response\"]['venues'])):\n",
    "    name_night_4=data[\"response\"]['venues'][x]['name']\n",
    "    lat_night_4=data[\"response\"]['venues'][x]['location'][\"lat\"]\n",
    "    long_night_4=data[\"response\"]['venues'][x]['location'][\"lng\"]\n",
    "    \n",
    "    night_life_4.append(name_night_4)\n",
    "    night_life_4.append(lat_night_4)\n",
    "    night_life_4.append(lng_night_4)"
   ]
  },
  {
   "cell_type": "code",
   "execution_count": 209,
   "metadata": {},
   "outputs": [],
   "source": [
    "fth= list(night_life_4)"
   ]
  },
  {
   "cell_type": "code",
   "execution_count": 210,
   "metadata": {},
   "outputs": [
    {
     "data": {
      "text/plain": [
       "[]"
      ]
     },
     "execution_count": 210,
     "metadata": {},
     "output_type": "execute_result"
    }
   ],
   "source": [
    "fth"
   ]
  },
  {
   "cell_type": "markdown",
   "metadata": {},
   "source": [
    "#### Data for the fifth company:'Catalyst Biosciences'"
   ]
  },
  {
   "cell_type": "code",
   "execution_count": 140,
   "metadata": {},
   "outputs": [],
   "source": [
    "#four_square('37.645401, -122.394464','Nightlife Spot')"
   ]
  },
  {
   "cell_type": "code",
   "execution_count": 223,
   "metadata": {},
   "outputs": [],
   "source": [
    "url = 'https://api.foursquare.com/v2/venues/search'\n",
    "\n",
    "params = dict(\n",
    "client_id= t_client_id,\n",
    "client_secret=t_client_secret,\n",
    "v='20200901',\n",
    "ll='37.645401,-122.394464',#coordenadas que le das\n",
    "radius = 700,\n",
    "query='Nightlife Spot'\n",
    ")\n",
    "re = requests.get(url=url, params=params)\n",
    "data = json.loads(re.text)"
   ]
  },
  {
   "cell_type": "code",
   "execution_count": 224,
   "metadata": {},
   "outputs": [],
   "source": [
    "night_life_5 = []\n",
    "for x in range(len(data[\"response\"]['venues'])):\n",
    "    name_night_5=data[\"response\"]['venues'][x]['name']\n",
    "    lat_night_5=data[\"response\"]['venues'][x]['location'][\"lat\"]\n",
    "    long_night_5=data[\"response\"]['venues'][x]['location'][\"lng\"]\n",
    "    \n",
    "    night_life_5.append(name_night_5)\n",
    "    night_life_5.append(lat_night_5)\n",
    "    night_life_5.append(lng_night_5)"
   ]
  },
  {
   "cell_type": "code",
   "execution_count": 225,
   "metadata": {},
   "outputs": [],
   "source": [
    "ff = list(night_life_5)"
   ]
  },
  {
   "cell_type": "code",
   "execution_count": 226,
   "metadata": {},
   "outputs": [
    {
     "data": {
      "text/plain": [
       "[]"
      ]
     },
     "execution_count": 226,
     "metadata": {},
     "output_type": "execute_result"
    }
   ],
   "source": [
    "ff"
   ]
  },
  {
   "cell_type": "markdown",
   "metadata": {},
   "source": [
    "### From this filter, we extract ONLY the companies 1, 2 and 3 the rest do not pass the filter"
   ]
  },
  {
   "cell_type": "code",
   "execution_count": null,
   "metadata": {},
   "outputs": [],
   "source": [
    "## Therefore the remaining companies are: (I delete the ones that dont meet the condition set above)"
   ]
  },
  {
   "cell_type": "code",
   "execution_count": 249,
   "metadata": {},
   "outputs": [],
   "source": [
    "#travel"
   ]
  },
  {
   "cell_type": "code",
   "execution_count": 247,
   "metadata": {},
   "outputs": [],
   "source": [
    "del travel[3:5]"
   ]
  },
  {
   "cell_type": "code",
   "execution_count": 248,
   "metadata": {},
   "outputs": [
    {
     "data": {
      "text/plain": [
       "[{'_id': ObjectId('5fb2ca3df3a429eb4e3ff1ed'),\n",
       "  'name': 'Gen-Y Media',\n",
       "  'offices': {'country_code': 'USA',\n",
       "   'latitude': 37.598478,\n",
       "   'longitude': -122.376572}},\n",
       " {'_id': ObjectId('5fb2ca3df3a429eb4e3ff4e7'),\n",
       "  'name': 'Sky Bird Travel  Tours',\n",
       "  'offices': {'country_code': 'USA',\n",
       "   'latitude': 37.599131,\n",
       "   'longitude': -122.368281}},\n",
       " {'_id': ObjectId('5fb2ca3cf3a429eb4e3fd2c5'),\n",
       "  'name': 'ScanCafe',\n",
       "  'offices': {'country_code': 'USA',\n",
       "   'latitude': 37.592584,\n",
       "   'longitude': -122.369676}}]"
      ]
     },
     "execution_count": 248,
     "metadata": {},
     "output_type": "execute_result"
    }
   ],
   "source": [
    "travel"
   ]
  },
  {
   "cell_type": "markdown",
   "metadata": {},
   "source": [
    "## 5. Proximity to a nursery school is the fifth filter I choose to apply"
   ]
  },
  {
   "cell_type": "markdown",
   "metadata": {},
   "source": [
    "#### Data for the first company: 'Gen-Y Media'"
   ]
  },
  {
   "cell_type": "code",
   "execution_count": 256,
   "metadata": {},
   "outputs": [],
   "source": [
    "#f_sq('37.598478,-122.376572','Nursery School')"
   ]
  },
  {
   "cell_type": "code",
   "execution_count": 308,
   "metadata": {},
   "outputs": [],
   "source": [
    "url = 'https://api.foursquare.com/v2/venues/search'\n",
    "\n",
    "params = dict(\n",
    "client_id= t_client_id,\n",
    "client_secret=t_client_secret,\n",
    "v='20200901',\n",
    "ll='37.598478,-122.376572',#coordenadas que le das\n",
    "radius = 250,\n",
    "query='Nursery School'\n",
    ")\n",
    "re = requests.get(url=url, params=params)\n",
    "data = json.loads(re.text)"
   ]
  },
  {
   "cell_type": "code",
   "execution_count": 309,
   "metadata": {},
   "outputs": [],
   "source": [
    "nursery_school_1 = []\n",
    "for x in range(len(data[\"response\"]['venues'])):\n",
    "    name_nursery=data[\"response\"]['venues'][x]['name']\n",
    "    lat_nursery=data[\"response\"]['venues'][x]['location'][\"lat\"]\n",
    "    lng_nursery=data[\"response\"]['venues'][x]['location'][\"lng\"]\n",
    "    \n",
    "    nursery_school_1.append(name_nursery)\n",
    "    nursery_school_1.append(lat_nursery)\n",
    "    nursery_school_1.append(lng_nursery)"
   ]
  },
  {
   "cell_type": "code",
   "execution_count": 310,
   "metadata": {},
   "outputs": [],
   "source": [
    "f_n = list(nursery_school_1)"
   ]
  },
  {
   "cell_type": "code",
   "execution_count": 311,
   "metadata": {},
   "outputs": [
    {
     "data": {
      "text/plain": [
       "['Ross School Of Business Alumni Receptiom',\n",
       " 37.597664,\n",
       " -122.376406,\n",
       " 'Design Tech High School',\n",
       " 37.5981330871582,\n",
       " -122.3793716430664]"
      ]
     },
     "execution_count": 311,
     "metadata": {},
     "output_type": "execute_result"
    }
   ],
   "source": [
    "f_n"
   ]
  },
  {
   "cell_type": "markdown",
   "metadata": {},
   "source": [
    "#### Data for the second company: 'Sky Bird Travel  Tours'"
   ]
  },
  {
   "cell_type": "code",
   "execution_count": 304,
   "metadata": {},
   "outputs": [],
   "source": [
    "url = 'https://api.foursquare.com/v2/venues/search'\n",
    "\n",
    "params = dict(\n",
    "client_id= t_client_id,\n",
    "client_secret=t_client_secret,\n",
    "v='20200901',\n",
    "ll='37.599131,-122.368281',#coordenadas que le das\n",
    "radius = 250,\n",
    "query='Nursery School'\n",
    ")\n",
    "re = requests.get(url=url, params=params)\n",
    "data = json.loads(re.text)"
   ]
  },
  {
   "cell_type": "code",
   "execution_count": 305,
   "metadata": {},
   "outputs": [],
   "source": [
    "nursery_school_2 = []\n",
    "for x in range(len(data[\"response\"]['venues'])):\n",
    "    name_nursery_2=data[\"response\"]['venues'][x]['name']\n",
    "    lat_nursery_2=data[\"response\"]['venues'][x]['location'][\"lat\"]\n",
    "    lng_nursery_2=data[\"response\"]['venues'][x]['location'][\"lng\"]\n",
    "    \n",
    "    nursery_school_2.append(name_nursery_2)\n",
    "    nursery_school_2.append(lat_nursery_2)\n",
    "    nursery_school_2.append(lng_nursery_2)"
   ]
  },
  {
   "cell_type": "code",
   "execution_count": 306,
   "metadata": {},
   "outputs": [],
   "source": [
    "s_n = list(nursery_school_2)"
   ]
  },
  {
   "cell_type": "code",
   "execution_count": 307,
   "metadata": {},
   "outputs": [
    {
     "data": {
      "text/plain": [
       "['Burlingame Music School',\n",
       " 37.597171783447266,\n",
       " -122.36664581298828,\n",
       " 'Golden Stars Driving School',\n",
       " 37.597079021903035,\n",
       " -122.36660242080687]"
      ]
     },
     "execution_count": 307,
     "metadata": {},
     "output_type": "execute_result"
    }
   ],
   "source": [
    "s_n"
   ]
  },
  {
   "cell_type": "markdown",
   "metadata": {},
   "source": [
    "#### Data for the third company:'ScanCafe'"
   ]
  },
  {
   "cell_type": "code",
   "execution_count": 312,
   "metadata": {},
   "outputs": [],
   "source": [
    "url = 'https://api.foursquare.com/v2/venues/search'\n",
    "\n",
    "params = dict(\n",
    "client_id= t_client_id,\n",
    "client_secret=t_client_secret,\n",
    "v='20200901',\n",
    "ll='37.592584,-122.369676',#coordenadas que le das\n",
    "radius = 250,\n",
    "query='Nursery School'\n",
    ")\n",
    "re = requests.get(url=url, params=params)\n",
    "data = json.loads(re.text)"
   ]
  },
  {
   "cell_type": "code",
   "execution_count": 313,
   "metadata": {},
   "outputs": [],
   "source": [
    "nursery_school_3 = []\n",
    "for x in range(len(data[\"response\"]['venues'])):\n",
    "    name_nursery_3=data[\"response\"]['venues'][x]['name']\n",
    "    lat_nursery_3=data[\"response\"]['venues'][x]['location'][\"lat\"]\n",
    "    lng_nursery_3=data[\"response\"]['venues'][x]['location'][\"lng\"]\n",
    "    \n",
    "    nursery_school_3.append(name_nursery_3)\n",
    "    nursery_school_3.append(lat_nursery_3)\n",
    "    nursery_school_3.append(lng_nursery_3)"
   ]
  },
  {
   "cell_type": "code",
   "execution_count": 314,
   "metadata": {},
   "outputs": [],
   "source": [
    "thr_n = list(nursery_school_3)"
   ]
  },
  {
   "cell_type": "code",
   "execution_count": 315,
   "metadata": {},
   "outputs": [
    {
     "data": {
      "text/plain": [
       "[]"
      ]
     },
     "execution_count": 315,
     "metadata": {},
     "output_type": "execute_result"
    }
   ],
   "source": [
    "thr_n"
   ]
  },
  {
   "cell_type": "markdown",
   "metadata": {},
   "source": [
    "### From this filter, we extract ONLY the companies 1, 2 the 3 did not pass the filter"
   ]
  },
  {
   "cell_type": "code",
   "execution_count": 316,
   "metadata": {},
   "outputs": [],
   "source": [
    "del travel[2:4]"
   ]
  },
  {
   "cell_type": "code",
   "execution_count": 317,
   "metadata": {},
   "outputs": [
    {
     "data": {
      "text/plain": [
       "[{'_id': ObjectId('5fb2ca3df3a429eb4e3ff1ed'),\n",
       "  'name': 'Gen-Y Media',\n",
       "  'offices': {'country_code': 'USA',\n",
       "   'latitude': 37.598478,\n",
       "   'longitude': -122.376572}},\n",
       " {'_id': ObjectId('5fb2ca3df3a429eb4e3ff4e7'),\n",
       "  'name': 'Sky Bird Travel  Tours',\n",
       "  'offices': {'country_code': 'USA',\n",
       "   'latitude': 37.599131,\n",
       "   'longitude': -122.368281}}]"
      ]
     },
     "execution_count": 317,
     "metadata": {},
     "output_type": "execute_result"
    }
   ],
   "source": [
    "travel"
   ]
  },
  {
   "cell_type": "markdown",
   "metadata": {},
   "source": [
    "## 6. Proximity to a vegan restaurant the sixth filter I choose to apply"
   ]
  },
  {
   "cell_type": "markdown",
   "metadata": {},
   "source": [
    "#### Data for the first company: 'Gen-Y Media'"
   ]
  },
  {
   "cell_type": "code",
   "execution_count": 329,
   "metadata": {},
   "outputs": [],
   "source": [
    "url = 'https://api.foursquare.com/v2/venues/search'\n",
    "\n",
    "params = dict(\n",
    "client_id= t_client_id,\n",
    "client_secret=t_client_secret,\n",
    "v='20200901',\n",
    "ll='37.598478,-122.376572',#coordenadas que le das\n",
    "radius = 500,\n",
    "query='Vegan restaurant'\n",
    ")\n",
    "re = requests.get(url=url, params=params)\n",
    "data = json.loads(re.text)"
   ]
  },
  {
   "cell_type": "code",
   "execution_count": 330,
   "metadata": {},
   "outputs": [],
   "source": [
    "vegan_restaurant = []\n",
    "for x in range(len(data[\"response\"]['venues'])):\n",
    "    name_veg=data[\"response\"]['venues'][x]['name']\n",
    "    lat_veg=data[\"response\"]['venues'][x]['location'][\"lat\"]\n",
    "    lng_veg=data[\"response\"]['venues'][x]['location'][\"lng\"]\n",
    "    \n",
    "    vegan_restaurant.append(name_veg)\n",
    "    vegan_restaurant.append(lat_veg)\n",
    "    vegan_restaurant.append(lng_veg)"
   ]
  },
  {
   "cell_type": "code",
   "execution_count": 331,
   "metadata": {},
   "outputs": [],
   "source": [
    "f_v = list(vegan_restaurant)"
   ]
  },
  {
   "cell_type": "code",
   "execution_count": 332,
   "metadata": {},
   "outputs": [
    {
     "data": {
      "text/plain": [
       "['Alfiere', 37.60367965698242, -122.37626647949219]"
      ]
     },
     "execution_count": 332,
     "metadata": {},
     "output_type": "execute_result"
    }
   ],
   "source": [
    "f_v"
   ]
  },
  {
   "cell_type": "markdown",
   "metadata": {},
   "source": [
    "#### Data for the second company: 'Sky Bird Travel  Tours'"
   ]
  },
  {
   "cell_type": "code",
   "execution_count": 339,
   "metadata": {},
   "outputs": [],
   "source": [
    "url = 'https://api.foursquare.com/v2/venues/search'\n",
    "\n",
    "params = dict(\n",
    "client_id= t_client_id,\n",
    "client_secret=t_client_secret,\n",
    "v='20200901',\n",
    "ll='37.599131,-122.368281',#coordenadas que le das\n",
    "radius = 500,\n",
    "query='Vegan restaurant'\n",
    ")\n",
    "re = requests.get(url=url, params=params)\n",
    "data = json.loads(re.text)"
   ]
  },
  {
   "cell_type": "code",
   "execution_count": 340,
   "metadata": {},
   "outputs": [],
   "source": [
    "vegan_restaurant_2= []\n",
    "for x in range(len(data[\"response\"]['venues'])):\n",
    "    name_veg_2=data[\"response\"]['venues'][x]['name']\n",
    "    lat_veg_2=data[\"response\"]['venues'][x]['location'][\"lat\"]\n",
    "    lng_veg_2=data[\"response\"]['venues'][x]['location'][\"lng\"]\n",
    "    \n",
    "    vegan_restaurant_2.append(name_veg_2)\n",
    "    vegan_restaurant_2.append(lat_veg_2)\n",
    "    vegan_restaurant_2.append(lng_veg_2)"
   ]
  },
  {
   "cell_type": "code",
   "execution_count": 341,
   "metadata": {},
   "outputs": [],
   "source": [
    "s_v = list(vegan_restaurant_2)"
   ]
  },
  {
   "cell_type": "code",
   "execution_count": 342,
   "metadata": {},
   "outputs": [
    {
     "data": {
      "text/plain": [
       "['Elephant Bar', 37.59987102716285, -122.36696516651016]"
      ]
     },
     "execution_count": 342,
     "metadata": {},
     "output_type": "execute_result"
    }
   ],
   "source": [
    "s_v"
   ]
  },
  {
   "cell_type": "markdown",
   "metadata": {},
   "source": [
    "### From this filter, we keep both companies, I consider that a radius of 500m is close enough for both to pass the filter into the next one"
   ]
  },
  {
   "cell_type": "markdown",
   "metadata": {},
   "source": [
    "## 7. Proximity to a basketball stadium"
   ]
  },
  {
   "cell_type": "markdown",
   "metadata": {},
   "source": [
    "#### Data for the first company: 'Gen-Y Media'"
   ]
  },
  {
   "cell_type": "code",
   "execution_count": 399,
   "metadata": {},
   "outputs": [],
   "source": [
    "url = 'https://api.foursquare.com/v2/venues/search'\n",
    "\n",
    "params = dict(\n",
    "client_id= t_client_id,\n",
    "client_secret=t_client_secret,\n",
    "v='20200901',\n",
    "ll='37.598478,-122.376572',#coordenadas que le das\n",
    "radius = 1700,\n",
    "query='Basketball Stadium'\n",
    ")\n",
    "re = requests.get(url=url, params=params)\n",
    "data = json.loads(re.text)"
   ]
  },
  {
   "cell_type": "code",
   "execution_count": 400,
   "metadata": {},
   "outputs": [],
   "source": [
    "basket_stadium = []\n",
    "for x in range(len(data[\"response\"]['venues'])):\n",
    "    name_bas=data[\"response\"]['venues'][x]['name']\n",
    "    lat_bas=data[\"response\"]['venues'][x]['location'][\"lat\"]\n",
    "    lng_bas=data[\"response\"]['venues'][x]['location'][\"lng\"]\n",
    "    \n",
    "    basket_stadium.append(name_bas)\n",
    "    basket_stadium.append(lat_bas)\n",
    "    basket_stadium.append(lng_bas)"
   ]
  },
  {
   "cell_type": "code",
   "execution_count": 401,
   "metadata": {},
   "outputs": [],
   "source": [
    "f_b = list(basket_stadium)"
   ]
  },
  {
   "cell_type": "code",
   "execution_count": 402,
   "metadata": {},
   "outputs": [
    {
     "data": {
      "text/plain": [
       "['Old Trafford Stadium', 37.61434555053711, -122.38542175292969]"
      ]
     },
     "execution_count": 402,
     "metadata": {},
     "output_type": "execute_result"
    }
   ],
   "source": [
    "f_b"
   ]
  },
  {
   "cell_type": "markdown",
   "metadata": {},
   "source": [
    "#### Data for the second company: 'Sky Bird Travel  Tours'"
   ]
  },
  {
   "cell_type": "code",
   "execution_count": 395,
   "metadata": {},
   "outputs": [],
   "source": [
    "url = 'https://api.foursquare.com/v2/venues/search'\n",
    "\n",
    "params = dict(\n",
    "client_id= t_client_id,\n",
    "client_secret=t_client_secret,\n",
    "v='20200901',\n",
    "ll='37.599131,-122.368281',#coordenadas que le das\n",
    "radius = 1700,\n",
    "query='Basketball Stadium'\n",
    ")\n",
    "re = requests.get(url=url, params=params)\n",
    "data = json.loads(re.text)"
   ]
  },
  {
   "cell_type": "code",
   "execution_count": 396,
   "metadata": {},
   "outputs": [],
   "source": [
    "basket_stadium_2 = []\n",
    "for x in range(len(data[\"response\"]['venues'])):\n",
    "    name_bas_2=data[\"response\"]['venues'][x]['name']\n",
    "    lat_bas_2=data[\"response\"]['venues'][x]['location'][\"lat\"]\n",
    "    lng_bas_2=data[\"response\"]['venues'][x]['location'][\"lng\"]\n",
    "    \n",
    "    basket_stadium_2.append(name_bas_2)\n",
    "    basket_stadium_2.append(lat_bas_2)\n",
    "    basket_stadium_2.append(lng_bas_2)"
   ]
  },
  {
   "cell_type": "code",
   "execution_count": 397,
   "metadata": {},
   "outputs": [],
   "source": [
    "s_b = list(basket_stadium_2)"
   ]
  },
  {
   "cell_type": "code",
   "execution_count": 398,
   "metadata": {},
   "outputs": [
    {
     "data": {
      "text/plain": [
       "[]"
      ]
     },
     "execution_count": 398,
     "metadata": {},
     "output_type": "execute_result"
    }
   ],
   "source": [
    "s_b"
   ]
  },
  {
   "cell_type": "code",
   "execution_count": null,
   "metadata": {},
   "outputs": [],
   "source": []
  },
  {
   "cell_type": "markdown",
   "metadata": {},
   "source": [
    "### From this final filter I obtain the localization where my company will be situated\n",
    "- latitude: 37.598478\n",
    "- longitude: -122.376572"
   ]
  },
  {
   "cell_type": "code",
   "execution_count": null,
   "metadata": {},
   "outputs": [],
   "source": []
  }
 ],
 "metadata": {
  "kernelspec": {
   "display_name": "Python 3",
   "language": "python",
   "name": "python3"
  },
  "language_info": {
   "codemirror_mode": {
    "name": "ipython",
    "version": 3
   },
   "file_extension": ".py",
   "mimetype": "text/x-python",
   "name": "python",
   "nbconvert_exporter": "python",
   "pygments_lexer": "ipython3",
   "version": "3.8.5"
  }
 },
 "nbformat": 4,
 "nbformat_minor": 4
}
