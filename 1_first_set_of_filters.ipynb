{
 "cells": [
  {
   "cell_type": "markdown",
   "metadata": {},
   "source": [
    "#### Import libraries and setting up connection"
   ]
  },
  {
   "cell_type": "code",
   "execution_count": 5,
   "metadata": {},
   "outputs": [],
   "source": [
    "from pymongo import MongoClient\n",
    "import pandas as pd"
   ]
  },
  {
   "cell_type": "code",
   "execution_count": 6,
   "metadata": {},
   "outputs": [],
   "source": [
    "client = MongoClient()"
   ]
  },
  {
   "cell_type": "code",
   "execution_count": 7,
   "metadata": {},
   "outputs": [
    {
     "data": {
      "text/plain": [
       "MongoClient(host=['localhost:27017'], document_class=dict, tz_aware=False, connect=True)"
      ]
     },
     "execution_count": 7,
     "metadata": {},
     "output_type": "execute_result"
    }
   ],
   "source": [
    "client"
   ]
  },
  {
   "cell_type": "code",
   "execution_count": 8,
   "metadata": {},
   "outputs": [],
   "source": [
    "db = client.get_database(\"companies\")"
   ]
  },
  {
   "cell_type": "code",
   "execution_count": 9,
   "metadata": {},
   "outputs": [
    {
     "data": {
      "text/plain": [
       "Database(MongoClient(host=['localhost:27017'], document_class=dict, tz_aware=False, connect=True), 'companies')"
      ]
     },
     "execution_count": 9,
     "metadata": {},
     "output_type": "execute_result"
    }
   ],
   "source": [
    "db"
   ]
  },
  {
   "cell_type": "markdown",
   "metadata": {},
   "source": [
    "### 1. Designers talk and like to share knowledge"
   ]
  },
  {
   "cell_type": "code",
   "execution_count": 10,
   "metadata": {},
   "outputs": [
    {
     "name": "stdout",
     "output_type": "stream",
     "text": [
      "[None, 'advertising', 'analytics', 'automotive', 'biotech', 'cleantech', 'consulting', 'design', 'ecommerce', 'education', 'enterprise', 'fashion', 'finance', 'games_video', 'government', 'hardware', 'health', 'hospitality', 'legal', 'local', 'manufacturing', 'medical', 'messaging', 'mobile', 'music', 'nanotech', 'network_hosting', 'news', 'nonprofit', 'other', 'photo_video', 'public_relations', 'real_estate', 'search', 'security', 'semiconductor', 'social', 'software', 'sports', 'transportation', 'travel', 'web']\n"
     ]
    }
   ],
   "source": [
    "s = print(list(db.companies.distinct(\"category_code\")))"
   ]
  },
  {
   "cell_type": "code",
   "execution_count": 11,
   "metadata": {},
   "outputs": [],
   "source": [
    "#set([db.companies['category_code']])"
   ]
  },
  {
   "cell_type": "markdown",
   "metadata": {},
   "source": [
    "#### I want to see where the design companies are located, therefore I look for them in mongo db"
   ]
  },
  {
   "cell_type": "code",
   "execution_count": 12,
   "metadata": {},
   "outputs": [],
   "source": [
    "dc = list(db.companies.find({\"category_code\":'design'},\n",
    "                       {'offices.country_code':1}))"
   ]
  },
  {
   "cell_type": "code",
   "execution_count": 13,
   "metadata": {},
   "outputs": [
    {
     "data": {
      "text/plain": [
       "[{'_id': ObjectId('52cdef7c4bab8bd675298447'),\n",
       "  'offices': [{'country_code': 'USA'},\n",
       "   {'country_code': 'AUS'},\n",
       "   {'country_code': 'DEU'}]},\n",
       " {'_id': ObjectId('52cdef7e4bab8bd67529ba4e'),\n",
       "  'offices': [{'country_code': 'USA'}]},\n",
       " {'_id': ObjectId('52cdef7e4bab8bd67529bd1a'),\n",
       "  'offices': [{'country_code': 'USA'}]},\n",
       " {'_id': ObjectId('52cdef7f4bab8bd67529c47a'),\n",
       "  'offices': [{'country_code': 'GBR'}]}]"
      ]
     },
     "execution_count": 13,
     "metadata": {},
     "output_type": "execute_result"
    }
   ],
   "source": [
    "dc"
   ]
  },
  {
   "cell_type": "markdown",
   "metadata": {},
   "source": [
    "#### As we can see out of the 6 design offices in the company list, 3 of them are located in the USA, to check the data more into detail I want to see not only the country but the city and state"
   ]
  },
  {
   "cell_type": "code",
   "execution_count": 14,
   "metadata": {},
   "outputs": [],
   "source": [
    "dccs = list(db.companies.find({'category_code':'design'},\n",
    "                       {'offices.city':1,'offices.state_code':1,'offices.country_code':1}))"
   ]
  },
  {
   "cell_type": "code",
   "execution_count": 15,
   "metadata": {},
   "outputs": [
    {
     "data": {
      "text/plain": [
       "[{'_id': ObjectId('52cdef7c4bab8bd675298447'),\n",
       "  'offices': [{'city': 'San Francisco',\n",
       "    'state_code': 'CA',\n",
       "    'country_code': 'USA'},\n",
       "   {'city': 'Collingwood', 'state_code': None, 'country_code': 'AUS'},\n",
       "   {'city': 'Berlin', 'state_code': None, 'country_code': 'DEU'}]},\n",
       " {'_id': ObjectId('52cdef7e4bab8bd67529ba4e'),\n",
       "  'offices': [{'city': 'Ellensburg',\n",
       "    'state_code': 'WA',\n",
       "    'country_code': 'USA'}]},\n",
       " {'_id': ObjectId('52cdef7e4bab8bd67529bd1a'),\n",
       "  'offices': [{'city': 'Brooklyn',\n",
       "    'state_code': 'NY',\n",
       "    'country_code': 'USA'}]},\n",
       " {'_id': ObjectId('52cdef7f4bab8bd67529c47a'),\n",
       "  'offices': [{'city': 'London', 'state_code': None, 'country_code': 'GBR'}]}]"
      ]
     },
     "execution_count": 15,
     "metadata": {},
     "output_type": "execute_result"
    }
   ],
   "source": [
    "dccs"
   ]
  },
  {
   "cell_type": "markdown",
   "metadata": {},
   "source": [
    "#### I also have to take into consideration that offices can have more than 1 object, therefor I need to use unwind"
   ]
  },
  {
   "cell_type": "code",
   "execution_count": 16,
   "metadata": {},
   "outputs": [],
   "source": [
    "res = db.companies.aggregate([\n",
    "                      {\"$unwind\":\"$offices\" },\n",
    "                      {\"$match\":{\"offices.latitude\":{\"$ne\":None}}},\n",
    "                      {\"$match\":{\"offices.longitude\":{\"$ne\":None}}},\n",
    "                      {\"$project\":{\"_id\":0}} # We omit the id, because when inserting into new collection, we can't\n",
    "                                             # have two documents with same id.\n",
    "                     ])"
   ]
  },
  {
   "cell_type": "code",
   "execution_count": 17,
   "metadata": {},
   "outputs": [
    {
     "data": {
      "text/plain": [
       "<pymongo.command_cursor.CommandCursor at 0x7f0266149fa0>"
      ]
     },
     "execution_count": 17,
     "metadata": {},
     "output_type": "execute_result"
    }
   ],
   "source": [
    "res"
   ]
  },
  {
   "cell_type": "code",
   "execution_count": 18,
   "metadata": {},
   "outputs": [
    {
     "data": {
      "text/plain": [
       "<pymongo.results.InsertManyResult at 0x7f0243f59740>"
      ]
     },
     "execution_count": 18,
     "metadata": {},
     "output_type": "execute_result"
    }
   ],
   "source": [
    "db.companies_unwinded.insert_many(res)"
   ]
  },
  {
   "cell_type": "code",
   "execution_count": 19,
   "metadata": {},
   "outputs": [],
   "source": [
    "offices = db.companies_unwinded"
   ]
  },
  {
   "cell_type": "code",
   "execution_count": 20,
   "metadata": {},
   "outputs": [],
   "source": [
    "res = offices.find({},{\"offices\":1})"
   ]
  },
  {
   "cell_type": "code",
   "execution_count": 21,
   "metadata": {},
   "outputs": [],
   "source": [
    "#therefor the remaining results for: NO null in office on lat and long and design as category code"
   ]
  },
  {
   "cell_type": "code",
   "execution_count": 22,
   "metadata": {},
   "outputs": [],
   "source": [
    "desf = list(db.companies_unwinded.find({'category_code':'design'},\n",
    "                       {'offices.city':1,'offices.state_code':1,'offices.country_code':1}))"
   ]
  },
  {
   "cell_type": "code",
   "execution_count": 23,
   "metadata": {},
   "outputs": [
    {
     "data": {
      "text/plain": [
       "[{'_id': ObjectId('5fb2ca3cf3a429eb4e3fd1c8'),\n",
       "  'offices': {'city': 'San Francisco',\n",
       "   'state_code': 'CA',\n",
       "   'country_code': 'USA'}},\n",
       " {'_id': ObjectId('5fb2ca3cf3a429eb4e3fd1c9'),\n",
       "  'offices': {'city': 'Collingwood',\n",
       "   'state_code': None,\n",
       "   'country_code': 'AUS'}},\n",
       " {'_id': ObjectId('5fb2ca3cf3a429eb4e3fd1ca'),\n",
       "  'offices': {'city': 'Berlin', 'state_code': None, 'country_code': 'DEU'}},\n",
       " {'_id': ObjectId('5fb2ca3df3a429eb4e3fefdd'),\n",
       "  'offices': {'city': 'Ellensburg',\n",
       "   'state_code': 'WA',\n",
       "   'country_code': 'USA'}}]"
      ]
     },
     "execution_count": 23,
     "metadata": {},
     "output_type": "execute_result"
    }
   ],
   "source": [
    "desf"
   ]
  },
  {
   "cell_type": "markdown",
   "metadata": {},
   "source": [
    "#### From this first filter, we obtain 4 companies from the design sector in the following cities:\n",
    "- San Francisco\n",
    "- Collingwood\n",
    "- Berlin\n",
    "- Ellensburg"
   ]
  },
  {
   "cell_type": "markdown",
   "metadata": {},
   "source": [
    "## 2. Lets investigate a little about tech startups"
   ]
  },
  {
   "cell_type": "code",
   "execution_count": 24,
   "metadata": {},
   "outputs": [],
   "source": [
    "#from the list of category code, we suppose that all of them that contain the term tech in it are from that sector"
   ]
  },
  {
   "cell_type": "code",
   "execution_count": 25,
   "metadata": {},
   "outputs": [
    {
     "name": "stdout",
     "output_type": "stream",
     "text": [
      "[None, 'advertising', 'analytics', 'automotive', 'biotech', 'cleantech', 'consulting', 'design', 'ecommerce', 'education', 'enterprise', 'fashion', 'finance', 'games_video', 'government', 'hardware', 'health', 'hospitality', 'legal', 'local', 'manufacturing', 'medical', 'messaging', 'mobile', 'music', 'nanotech', 'network_hosting', 'news', 'nonprofit', 'other', 'photo_video', 'public_relations', 'real_estate', 'search', 'security', 'semiconductor', 'social', 'software', 'sports', 'transportation', 'travel', 'web']\n"
     ]
    }
   ],
   "source": [
    "s = print(list(db.companies.distinct(\"category_code\")))"
   ]
  },
  {
   "cell_type": "code",
   "execution_count": 26,
   "metadata": {},
   "outputs": [],
   "source": [
    "filter_01 = {'category_code':{'$regex':'tech$'},'total_money_raised':{'$gte':'$1_000_000'}}"
   ]
  },
  {
   "cell_type": "code",
   "execution_count": 27,
   "metadata": {},
   "outputs": [],
   "source": [
    "filter_1 = list(db.companies.find(filter_01))"
   ]
  },
  {
   "cell_type": "code",
   "execution_count": 28,
   "metadata": {},
   "outputs": [
    {
     "data": {
      "text/plain": [
       "361"
      ]
     },
     "execution_count": 28,
     "metadata": {},
     "output_type": "execute_result"
    }
   ],
   "source": [
    "len(filter_1)"
   ]
  },
  {
   "cell_type": "code",
   "execution_count": 29,
   "metadata": {},
   "outputs": [],
   "source": [
    "#tenindo en cuenta los unwinded el len se reduce"
   ]
  },
  {
   "cell_type": "code",
   "execution_count": 30,
   "metadata": {},
   "outputs": [],
   "source": [
    "filter_01 = {'category_code':{'$regex':'tech$'},'total_money_raised':{'$gte':'$1_000_000'}}"
   ]
  },
  {
   "cell_type": "code",
   "execution_count": 31,
   "metadata": {},
   "outputs": [],
   "source": [
    "filter_1 = list(db.companies_unwinded.find(filter_01))"
   ]
  },
  {
   "cell_type": "code",
   "execution_count": 32,
   "metadata": {},
   "outputs": [
    {
     "data": {
      "text/plain": [
       "263"
      ]
     },
     "execution_count": 32,
     "metadata": {},
     "output_type": "execute_result"
    }
   ],
   "source": [
    "len(filter_1)"
   ]
  },
  {
   "cell_type": "markdown",
   "metadata": {},
   "source": [
    "#### This means there is about 263 companies that fulfill that requirement.\n"
   ]
  },
  {
   "cell_type": "markdown",
   "metadata": {},
   "source": [
    "### Now, we combine both filters (design and tech) and see from those 263 tech companies, how many are also close to a design company (from the 4 obtained above)"
   ]
  },
  {
   "cell_type": "markdown",
   "metadata": {},
   "source": [
    "#### We start with SanFrancisco"
   ]
  },
  {
   "cell_type": "code",
   "execution_count": 33,
   "metadata": {},
   "outputs": [],
   "source": [
    "filter_tandc1 = {'category_code':{'$regex':'tech$'},\n",
    "                 'total_money_raised':{'$gte':'$1_000_000'},\n",
    "                 'offices.city':'San Francisco'}"
   ]
  },
  {
   "cell_type": "code",
   "execution_count": 34,
   "metadata": {},
   "outputs": [],
   "source": [
    "filter_sf = list(db.companies_unwinded.find(filter_tandc1))"
   ]
  },
  {
   "cell_type": "code",
   "execution_count": 35,
   "metadata": {},
   "outputs": [
    {
     "data": {
      "text/plain": [
       "5"
      ]
     },
     "execution_count": 35,
     "metadata": {},
     "output_type": "execute_result"
    }
   ],
   "source": [
    "len(filter_sf)"
   ]
  },
  {
   "cell_type": "markdown",
   "metadata": {},
   "source": [
    "#### The we check Collingwood"
   ]
  },
  {
   "cell_type": "code",
   "execution_count": 36,
   "metadata": {},
   "outputs": [],
   "source": [
    "filter_tandc2 = {'category_code':{'$regex':'tech$'},'total_money_raised':{'$gte':'$1_000_000'},'offices.city':'Collingwood'}"
   ]
  },
  {
   "cell_type": "code",
   "execution_count": 37,
   "metadata": {},
   "outputs": [],
   "source": [
    "filter_c= list(db.companies_unwinded.find(filter_tandc2))"
   ]
  },
  {
   "cell_type": "code",
   "execution_count": 38,
   "metadata": {},
   "outputs": [
    {
     "data": {
      "text/plain": [
       "0"
      ]
     },
     "execution_count": 38,
     "metadata": {},
     "output_type": "execute_result"
    }
   ],
   "source": [
    "len(filter_c)"
   ]
  },
  {
   "cell_type": "markdown",
   "metadata": {},
   "source": [
    "#### FAollowing up we check Berlin"
   ]
  },
  {
   "cell_type": "code",
   "execution_count": 39,
   "metadata": {},
   "outputs": [],
   "source": [
    "filter_tandc3 = {'category_code':{'$regex':'tech$'},'total_money_raised':{'$gte':'$1_000_000'},'offices.city':'Berlin'}"
   ]
  },
  {
   "cell_type": "code",
   "execution_count": 40,
   "metadata": {},
   "outputs": [],
   "source": [
    "filter_b= list(db.companies_unwinded.find(filter_tandc3))"
   ]
  },
  {
   "cell_type": "code",
   "execution_count": 41,
   "metadata": {},
   "outputs": [
    {
     "data": {
      "text/plain": [
       "0"
      ]
     },
     "execution_count": 41,
     "metadata": {},
     "output_type": "execute_result"
    }
   ],
   "source": [
    "len(filter_b)"
   ]
  },
  {
   "cell_type": "markdown",
   "metadata": {},
   "source": [
    "#### And at last Ellensburg"
   ]
  },
  {
   "cell_type": "code",
   "execution_count": 42,
   "metadata": {},
   "outputs": [],
   "source": [
    "filter_tandc4 = {'category_code':{'$regex':'tech$'},'total_money_raised':{'$gte':'$1_000_000'},'offices.city':'Ellensburg'}"
   ]
  },
  {
   "cell_type": "code",
   "execution_count": 43,
   "metadata": {},
   "outputs": [],
   "source": [
    "filter_e= list(db.companies_unwinded.find(filter_tandc4))"
   ]
  },
  {
   "cell_type": "code",
   "execution_count": 44,
   "metadata": {},
   "outputs": [
    {
     "data": {
      "text/plain": [
       "0"
      ]
     },
     "execution_count": 44,
     "metadata": {},
     "output_type": "execute_result"
    }
   ],
   "source": [
    "len(filter_e)"
   ]
  },
  {
   "cell_type": "markdown",
   "metadata": {},
   "source": [
    "#### From this quick analysis we can see how SanFrancisco is the only city with tech companies"
   ]
  },
  {
   "cell_type": "markdown",
   "metadata": {},
   "source": [
    "## To finnish with these to first filters, I check how many companies there are close to what could be the chosen city"
   ]
  },
  {
   "cell_type": "markdown",
   "metadata": {},
   "source": [
    "## Geoqueries"
   ]
  },
  {
   "cell_type": "code",
   "execution_count": 45,
   "metadata": {},
   "outputs": [],
   "source": [
    "#In geoqueries, the coordinates are inversed, hence why I do the following"
   ]
  },
  {
   "cell_type": "code",
   "execution_count": 46,
   "metadata": {},
   "outputs": [],
   "source": [
    "res = offices.find({},{\"offices\":1})"
   ]
  },
  {
   "cell_type": "code",
   "execution_count": 47,
   "metadata": {},
   "outputs": [],
   "source": [
    "for c in res:\n",
    "    filt = {\"_id\":c[\"_id\"]}\n",
    "    coord = {\n",
    "              \"type\": \"Point\",\n",
    "              \"coordinates\": [c[\"offices\"][\"longitude\"], c[\"offices\"][\"latitude\"]]\n",
    "            }\n",
    "    update = {\"$set\":{\"coord\":coord}}\n",
    "    offices.update_one(filt,update)"
   ]
  },
  {
   "cell_type": "markdown",
   "metadata": {},
   "source": [
    "### Near a point"
   ]
  },
  {
   "cell_type": "code",
   "execution_count": 48,
   "metadata": {},
   "outputs": [],
   "source": [
    "# I will be using the coordinates of all 4 of the result obtaines above, in order to check wich \n",
    "# one obtains more results, and therefore is the most suitable "
   ]
  },
  {
   "cell_type": "code",
   "execution_count": 49,
   "metadata": {},
   "outputs": [],
   "source": [
    "desff = list(db.companies_unwinded.find({'category_code':'design'},\n",
    "                       {'offices.city':1,'offices.country_code':1,'offices.latitude':1, 'offices.longitude':1}))"
   ]
  },
  {
   "cell_type": "code",
   "execution_count": 50,
   "metadata": {},
   "outputs": [
    {
     "data": {
      "text/plain": [
       "[{'_id': ObjectId('5fb2ca3cf3a429eb4e3fd1c8'),\n",
       "  'offices': {'city': 'San Francisco',\n",
       "   'country_code': 'USA',\n",
       "   'latitude': 37.7955307,\n",
       "   'longitude': -122.4005983}},\n",
       " {'_id': ObjectId('5fb2ca3cf3a429eb4e3fd1c9'),\n",
       "  'offices': {'city': 'Collingwood',\n",
       "   'country_code': 'AUS',\n",
       "   'latitude': -37.8026587,\n",
       "   'longitude': 144.9868546}},\n",
       " {'_id': ObjectId('5fb2ca3cf3a429eb4e3fd1ca'),\n",
       "  'offices': {'city': 'Berlin',\n",
       "   'country_code': 'DEU',\n",
       "   'latitude': 52.4986199,\n",
       "   'longitude': 13.4469031}},\n",
       " {'_id': ObjectId('5fb2ca3df3a429eb4e3fefdd'),\n",
       "  'offices': {'city': 'Ellensburg',\n",
       "   'country_code': 'USA',\n",
       "   'latitude': 45.7968414,\n",
       "   'longitude': -122.6931439}}]"
      ]
     },
     "execution_count": 50,
     "metadata": {},
     "output_type": "execute_result"
    }
   ],
   "source": [
    "desff"
   ]
  },
  {
   "cell_type": "code",
   "execution_count": 51,
   "metadata": {},
   "outputs": [],
   "source": [
    "#offices.create_index([('coord','2dsphere')])"
   ]
  },
  {
   "cell_type": "markdown",
   "metadata": {},
   "source": [
    "### SF office"
   ]
  },
  {
   "cell_type": "code",
   "execution_count": 52,
   "metadata": {},
   "outputs": [],
   "source": [
    "SF_point = {\"type\":\"Point\",\n",
    "         \"coordinates\":[-122.4005983,37.7955307]}\n",
    "\n",
    "query ={\n",
    "    \"coord\":{\n",
    "        \"$near\":{\n",
    "            \"$geometry\":SF_point,\n",
    "            \"$maxDistance\":1_000,#In meters\n",
    "            #\"$minDistance\":\n",
    "        }\n",
    "    }\n",
    "}\n",
    "\n",
    "\n",
    "res_SF = db.companies_unwinded.find(query,{\"name\":1})"
   ]
  },
  {
   "cell_type": "code",
   "execution_count": 53,
   "metadata": {},
   "outputs": [
    {
     "data": {
      "text/plain": [
       "214"
      ]
     },
     "execution_count": 53,
     "metadata": {},
     "output_type": "execute_result"
    }
   ],
   "source": [
    "len(list(res_SF))"
   ]
  },
  {
   "cell_type": "markdown",
   "metadata": {},
   "source": [
    "### Collingwood office"
   ]
  },
  {
   "cell_type": "code",
   "execution_count": 54,
   "metadata": {},
   "outputs": [],
   "source": [
    "Cll_point = {\"type\":\"Point\",\n",
    "         \"coordinates\":[144.9868546,-37.8026587]}\n",
    "\n",
    "query ={\n",
    "    \"coord\":{\n",
    "        \"$near\":{\n",
    "            \"$geometry\":Cll_point,\n",
    "            \"$maxDistance\":1_000,#In meters\n",
    "            #\"$minDistance\":\n",
    "        }\n",
    "    }\n",
    "}\n",
    "\n",
    "\n",
    "res_Cll = db.companies_unwinded.find(query,{\"name\":1})"
   ]
  },
  {
   "cell_type": "code",
   "execution_count": 55,
   "metadata": {},
   "outputs": [
    {
     "data": {
      "text/plain": [
       "2"
      ]
     },
     "execution_count": 55,
     "metadata": {},
     "output_type": "execute_result"
    }
   ],
   "source": [
    "len(list(res_Cll))"
   ]
  },
  {
   "cell_type": "markdown",
   "metadata": {},
   "source": [
    "### Berlin office"
   ]
  },
  {
   "cell_type": "code",
   "execution_count": 56,
   "metadata": {},
   "outputs": [],
   "source": [
    "B_point = {\"type\":\"Point\",\n",
    "         \"coordinates\":[13.4469031,52.4986199]}\n",
    "\n",
    "query ={\n",
    "    \"coord\":{\n",
    "        \"$near\":{\n",
    "            \"$geometry\":B_point,\n",
    "            \"$maxDistance\":1_000,#In meters\n",
    "            #\"$minDistance\":\n",
    "        }\n",
    "    }\n",
    "}\n",
    "\n",
    "\n",
    "res_B =db.companies_unwinded.find(query,{\"name\":1})"
   ]
  },
  {
   "cell_type": "code",
   "execution_count": 57,
   "metadata": {},
   "outputs": [
    {
     "data": {
      "text/plain": [
       "6"
      ]
     },
     "execution_count": 57,
     "metadata": {},
     "output_type": "execute_result"
    }
   ],
   "source": [
    "len(list(res_B))"
   ]
  },
  {
   "cell_type": "markdown",
   "metadata": {},
   "source": [
    "### Ellensburg office"
   ]
  },
  {
   "cell_type": "code",
   "execution_count": 58,
   "metadata": {},
   "outputs": [],
   "source": [
    "E_point = {\"type\":\"Point\",\n",
    "         \"coordinates\":[-122.6931439,45.7968414]}\n",
    "\n",
    "query ={\n",
    "    \"coord\":{\n",
    "        \"$near\":{\n",
    "            \"$geometry\":E_point,\n",
    "            \"$maxDistance\":1_000,#In meters\n",
    "            #\"$minDistance\":\n",
    "        }\n",
    "    }\n",
    "}\n",
    "\n",
    "\n",
    "res_E = db.companies_unwinded.find(query,{\"name\":1})"
   ]
  },
  {
   "cell_type": "code",
   "execution_count": 59,
   "metadata": {},
   "outputs": [
    {
     "data": {
      "text/plain": [
       "2"
      ]
     },
     "execution_count": 59,
     "metadata": {},
     "output_type": "execute_result"
    }
   ],
   "source": [
    "len(list(res_E))"
   ]
  },
  {
   "cell_type": "markdown",
   "metadata": {},
   "source": [
    "### From this analysis, we corroborate that San Francisco is the chosen city, beacuse its the only one that fullfills both the requirements set above, and is also the city with the most companies "
   ]
  },
  {
   "cell_type": "markdown",
   "metadata": {},
   "source": [
    "## 3. Account managers need to travel a lot, therefore I choose the Airport as my 3rd filter"
   ]
  },
  {
   "cell_type": "code",
   "execution_count": 60,
   "metadata": {},
   "outputs": [],
   "source": [
    "#SF international airpot == 'lat': 37.6167130000997,'lng': -122.38709449768066"
   ]
  },
  {
   "cell_type": "code",
   "execution_count": 61,
   "metadata": {},
   "outputs": [],
   "source": [
    "travel_point = {\"type\":\"Point\",\n",
    "         \"coordinates\":[-122.38709449768066,37.6167130000997]}\n",
    "\n",
    "query ={\n",
    "    \"coord\":{\n",
    "        \"$near\":{\n",
    "            \"$geometry\":travel_point,\n",
    "            \"$maxDistance\":3_300,#In meters\n",
    "            #\"$minDistance\":\n",
    "        }\n",
    "    }\n",
    "}\n",
    "\n",
    "\n",
    "res_travel = db.companies_unwinded.find(query,{\"name\":1,'offices.country_code':1,'offices.latitude':1, 'offices.longitude':1})"
   ]
  },
  {
   "cell_type": "code",
   "execution_count": 62,
   "metadata": {},
   "outputs": [],
   "source": [
    "travel = list(res_travel)"
   ]
  },
  {
   "cell_type": "code",
   "execution_count": 63,
   "metadata": {},
   "outputs": [
    {
     "data": {
      "text/plain": [
       "[{'_id': ObjectId('5fb2ca3df3a429eb4e3ff1ed'),\n",
       "  'name': 'Gen-Y Media',\n",
       "  'offices': {'country_code': 'USA',\n",
       "   'latitude': 37.598478,\n",
       "   'longitude': -122.376572}},\n",
       " {'_id': ObjectId('5fb2ca3df3a429eb4e3ff4e7'),\n",
       "  'name': 'Sky Bird Travel  Tours',\n",
       "  'offices': {'country_code': 'USA',\n",
       "   'latitude': 37.599131,\n",
       "   'longitude': -122.368281}},\n",
       " {'_id': ObjectId('5fb2ca3cf3a429eb4e3fd2c5'),\n",
       "  'name': 'ScanCafe',\n",
       "  'offices': {'country_code': 'USA',\n",
       "   'latitude': 37.592584,\n",
       "   'longitude': -122.369676}},\n",
       " {'_id': ObjectId('5fb2ca3cf3a429eb4e3fe3e2'),\n",
       "  'name': 'Planet Metrics',\n",
       "  'offices': {'country_code': 'USA',\n",
       "   'latitude': 37.628328,\n",
       "   'longitude': -122.420814}},\n",
       " {'_id': ObjectId('5fb2ca3df3a429eb4e3ff382'),\n",
       "  'name': 'Catalyst Biosciences',\n",
       "  'offices': {'country_code': 'USA',\n",
       "   'latitude': 37.645401,\n",
       "   'longitude': -122.394464}}]"
      ]
     },
     "execution_count": 63,
     "metadata": {},
     "output_type": "execute_result"
    }
   ],
   "source": [
    "travel"
   ]
  },
  {
   "cell_type": "markdown",
   "metadata": {},
   "source": [
    "#### From this third filter I obtain 5 different companies that follow these filters;\n",
    "- Close to a design company\n",
    "- Close to a tech company\n",
    "- Close to the airport"
   ]
  },
  {
   "cell_type": "code",
   "execution_count": 64,
   "metadata": {},
   "outputs": [
    {
     "name": "stdout",
     "output_type": "stream",
     "text": [
      "Stored 'travel' (list)\n"
     ]
    }
   ],
   "source": [
    "%store travel"
   ]
  },
  {
   "cell_type": "code",
   "execution_count": null,
   "metadata": {},
   "outputs": [],
   "source": []
  }
 ],
 "metadata": {
  "kernelspec": {
   "display_name": "Python 3",
   "language": "python",
   "name": "python3"
  },
  "language_info": {
   "codemirror_mode": {
    "name": "ipython",
    "version": 3
   },
   "file_extension": ".py",
   "mimetype": "text/x-python",
   "name": "python",
   "nbconvert_exporter": "python",
   "pygments_lexer": "ipython3",
   "version": "3.8.5"
  }
 },
 "nbformat": 4,
 "nbformat_minor": 4
}
